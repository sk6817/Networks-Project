{
  "nbformat": 4,
  "nbformat_minor": 0,
  "metadata": {
    "colab": {
      "name": "Random Walk",
      "provenance": [],
      "collapsed_sections": []
    },
    "kernelspec": {
      "name": "python3",
      "display_name": "Python 3"
    }
  },
  "cells": [
    {
      "cell_type": "code",
      "metadata": {
        "id": "eM6f-kku5DMr",
        "colab_type": "code",
        "colab": {}
      },
      "source": [
        " \"\"\"\n",
        "Functions to be used \n",
        "\"\"\"\n",
        "import pickle\n",
        "import numpy as np\n",
        "import matplotlib.pyplot as plt\n",
        "from scipy.optimize import curve_fit\n",
        "from scipy.stats import chisquare\n",
        "from google.colab import files\n",
        "\n",
        "def power_law(x,A, D):\n",
        "    '''\n",
        "    Power law function needed for fitting\n",
        "    '''\n",
        "    return A*np.power(x, D)\n",
        "\n",
        "def linear(x, m, c):\n",
        "    '''\n",
        "    Linear function needed for fitting\n",
        "    '''\n",
        "    return m*x + c\n",
        "\n",
        "def p_inf(k,m):\n",
        "    '''\n",
        "    p_inf for preferential attachment\n",
        "    '''\n",
        "    return (2*m*(m+1))/(k*(k+1)*(k+2))\n",
        "\n",
        "def exp_k(x, A, B, E):\n",
        "    return A*B**(E*x)\n",
        "\n",
        "def k1_prf(N, m):\n",
        "    '''\n",
        "    k1 in preferential attachment\n",
        "    '''\n",
        "    num = -1 + np.sqrt(1+4*m*N*(m+1))\n",
        "    return num / 2\n",
        "\n",
        "def pure(k, m):\n",
        "    '''\n",
        "    p_inf pure random attachment\n",
        "    '''\n",
        "    return m**(k-m)/((1+m)**(k-m+1))\n",
        "\n",
        "def k1_rnd(N, m):\n",
        "    '''\n",
        "    k1 in random attachment\n",
        "    '''\n",
        "    return m - (np.log(N) / (np.log(m) - np.log(m+1)))\n",
        "\n",
        "def report(A):\n",
        "        '''\n",
        "        The number of edges and vertices in adjacency list\n",
        "        '''\n",
        "        s = 0\n",
        "        for i in range(len(A)): \n",
        "             s += len(A[i])  \n",
        "        edges_num = s // 2\n",
        "        vertex_num = len(A)\n",
        "        print('The number of edges is', edges_num)\n",
        "        print('The number of vertices is', vertex_num)\n",
        "        return edges_num, vertex_num\n",
        "# logbin code given\n",
        "\n",
        "def logbin(data, scale = 1., zeros = False):\n",
        "    \"\"\"\n",
        "    logbin(data, scale = 1., zeros = False)\n",
        "\n",
        "    Log-bin frequency of unique integer values in data. Returns probabilities\n",
        "    for each bin.\n",
        "\n",
        "    Array, data, is a 1-d array containing full set of event sizes for a\n",
        "    given process in no particular order. For instance, in the Oslo Model\n",
        "    the array may contain the avalanche size recorded at each time step. For\n",
        "    a complex network, the array may contain the degree of each node in the\n",
        "    network. The logbin function finds the frequency of each unique value in\n",
        "    the data array. The function then bins these frequencies in logarithmically\n",
        "    increasing bin sizes controlled by the scale parameter.\n",
        "\n",
        "    Minimum binsize is always 1. Bin edges are lowered to nearest integer. Bins\n",
        "    are always unique, i.e. two different float bin edges corresponding to the\n",
        "    same integer interval will not be included twice. Note, rounding to integer\n",
        "    values results in noise at small event sizes.\n",
        "\n",
        "    Parameters\n",
        "    ----------\n",
        "\n",
        "    data: array_like, 1 dimensional, non-negative integers\n",
        "          Input array. (e.g. Raw avalanche size data in Oslo model.)\n",
        "\n",
        "    scale: float, greater or equal to 1.\n",
        "          Scale parameter controlling the growth of bin sizes.\n",
        "          If scale = 1., function will return frequency of each unique integer\n",
        "          value in data with no binning.\n",
        "\n",
        "    zeros: boolean\n",
        "          Set zeros = True if you want binning function to consider events of\n",
        "          size 0.\n",
        "          Note that output cannot be plotted on log-log scale if data contains\n",
        "          zeros. If zeros = False, events of size 0 will be removed from data.\n",
        "\n",
        "    Returns\n",
        "    -------\n",
        "\n",
        "    x: array_like, 1 dimensional\n",
        "          Array of coordinates for bin centres calculated using geometric mean\n",
        "          of bin edges. Bins with a count of 0 will not be returned.\n",
        "    y: array_like, 1 dimensional\n",
        "          Array of normalised frequency counts within each bin. Bins with a\n",
        "          count of 0 will not be returned.\n",
        "    \"\"\"\n",
        "    import numpy as np\n",
        "    if scale < 1:\n",
        "        raise ValueError('Function requires scale >= 1.')\n",
        "    count = np.bincount(data)\n",
        "    tot = np.sum(count)\n",
        "    smax = np.max(data)\n",
        "    if scale > 1:\n",
        "        jmax = np.ceil(np.log(smax)/np.log(scale))\n",
        "        if zeros:\n",
        "            binedges = scale ** np.arange(jmax + 1)\n",
        "            binedges[0] = 0\n",
        "        else:\n",
        "            binedges = scale ** np.arange(1,jmax + 1)\n",
        "            # count = count[1:]\n",
        "        binedges = np.unique(binedges.astype('uint64'))\n",
        "        x = (binedges[:-1] * (binedges[1:]-1)) ** 0.5\n",
        "        y = np.zeros_like(x)\n",
        "        count = count.astype('float')\n",
        "        for i in range(len(y)):\n",
        "            y[i] = np.sum(count[binedges[i]:binedges[i+1]]/(binedges[i+1] - binedges[i]))\n",
        "            # print(binedges[i],binedges[i+1])\n",
        "        # print(smax,jmax,binedges,x)\n",
        "        # print(x,y)\n",
        "    else:\n",
        "        x = np.nonzero(count)[0]\n",
        "        y = count[count != 0].astype('float')\n",
        "        if zeros != True and x[0] == 0:\n",
        "            x = x[1:]\n",
        "            y = y[1:]\n",
        "    y /= tot\n",
        "    x = x[y!=0]\n",
        "    y = y[y!=0]\n",
        "    return x,y\n",
        "\n",
        "def degree(A):\n",
        "  '''\n",
        "  Returns the degree sequence for a given adjacency list, A. \n",
        "  '''\n",
        "  return [len(i) for i in A]\n"
      ],
      "execution_count": 0,
      "outputs": []
    },
    {
      "cell_type": "code",
      "metadata": {
        "id": "2eSXhSnX4VXX",
        "colab_type": "code",
        "colab": {}
      },
      "source": [
        "'''\n",
        "Analysis for Networks: Random Walk\n",
        "'''\n",
        "import numpy as np\n",
        "import matplotlib.pyplot as plt\n",
        "from scipy.optimize import curve_fit\n",
        "import random\n",
        "\n",
        "def walk(N, m, q, seed = 1):\n",
        "   random.seed(seed)\n",
        "   adj_list = []\n",
        "   for i in range(m+1):        # initial network with m+1 vertices\n",
        "    ori = list(range(m+1))   \n",
        "    ori.remove(i)\n",
        "    adj_list.append(ori)  \n",
        "\n",
        "   for k in range(int(N) - len(adj_list)):\n",
        "    w_0 = len(adj_list)\n",
        "    node_list = [1, 1]           #  to initiliase the while loop\n",
        "    while len(node_list) != len(set(node_list)):\n",
        "      node_list = []\n",
        "      while len(set(node_list)) < m:\n",
        "        v_0 = random.choice(range(0,w_0))         # choosing a random existing vertex, v_0\n",
        "        v_l = v_0                                 # becomes the current vertex v_l\n",
        "        x = random.random()\n",
        "        while x <= q:\n",
        "          v_l1 = random.choice(adj_list[v_l])     # choosing from its neighbours   v_l --> v_(l+1)\n",
        "          v_l = v_l1\n",
        "          x = random.random()\n",
        "        else:\n",
        "          node_list.append(v_l)      # this becomes the end of walk\n",
        "\n",
        "    adj_list.append([])                        # add new vertex\n",
        "    w_1 = len(adj_list) - 1\n",
        "    for i in node_list:\n",
        "      adj_list[i].append(w_1)     # create edge\n",
        "      adj_list[-1].append(i)    # create edge\n",
        "   return adj_list\n"
      ],
      "execution_count": 0,
      "outputs": []
    },
    {
      "cell_type": "code",
      "metadata": {
        "id": "bMA_hUli4hib",
        "colab_type": "code",
        "colab": {}
      },
      "source": [
        "x_walk = walk(1000000, 4, 0.9)"
      ],
      "execution_count": 0,
      "outputs": []
    },
    {
      "cell_type": "code",
      "metadata": {
        "id": "h9PU9PT-4lDy",
        "colab_type": "code",
        "outputId": "d87d6ec4-3f1f-4bd8-9b47-bd1579204036",
        "colab": {
          "base_uri": "https://localhost:8080/",
          "height": 350
        }
      },
      "source": [
        "f = []\n",
        "for i in x_walk:\n",
        "  if len(i) != len(set(i)):\n",
        "    f.append(i)\n",
        "\n",
        "print(len(f))  # --> zero\n",
        "\n",
        "degree_sequence_test = degree(x_walk)\n",
        "x, y = logbin(degree_sequence_test, scale = 1.2)     # log-binned\n",
        "(A, B), cov = curve_fit(power_law, x[10:], y[10:])\n",
        "print(A, B)\n",
        "error = np.sqrt(np.diag(cov))\n",
        "print(error)\n",
        "\n",
        "fig, ax = plt.subplots(1)\n",
        "x_plot = np.linspace(1, 10000, 1000)\n",
        "plt.loglog(x, y, '.', label = 'log-binned')\n",
        "plt.loglog(x, power_law(x, A, B),'--', color = 'r', label = 'fit')\n",
        "plt.title(\"Degree distribution\")\n",
        "plt.ylabel(\"Probability\")\n",
        "plt.xlabel(\"Degree\")\n",
        "plt.legend()\n",
        "plt.show()     "
      ],
      "execution_count": 0,
      "outputs": [
        {
          "output_type": "stream",
          "text": [
            "0\n",
            "42.84364432362959 -3.0376958657512367\n",
            "[1.99718588 0.01363011]\n"
          ],
          "name": "stdout"
        },
        {
          "output_type": "display_data",
          "data": {
            "image/png": "[encoded data removed]",
            "text/plain": [
              "<Figure size 432x288 with 1 Axes>"
            ]
          },
          "metadata": {
            "tags": []
          }
        }
      ]
    },
    {
      "cell_type": "code",
      "metadata": {
        "id": "ytGPxuhN4rVq",
        "colab_type": "code",
        "colab": {}
      },
      "source": [
        "# investigating different q's\n",
        "\n",
        "walk_rnd = walk(1000000, 4, 0)\n",
        "walk_mix = walk(1000000, 4, 0.5)\n",
        "walk_prf = walk(1000000, 4, 0.9)"
      ],
      "execution_count": 0,
      "outputs": []
    },
    {
      "cell_type": "code",
      "metadata": {
        "id": "dKRNBnoy4rTh",
        "colab_type": "code",
        "outputId": "d397bb40-0409-48f7-8db1-f57cee0132c3",
        "colab": {
          "base_uri": "https://localhost:8080/",
          "height": 391
        }
      },
      "source": [
        "rnd = plt.figure()\n",
        "# q = 0\n",
        "degree_sequence_0 = degree(walk_rnd)\n",
        "x, y = logbin(degree_sequence_0, scale = 1.1)     # log-binned\n",
        "plt.loglog(x, y, '.', color = 'c', label = \"q = 0\")\n",
        "x_ran = np.linspace(x[0], 80)\n",
        "plt.loglog(x_ran, pure(x_ran, m = 4),'--', color = 'c', linewidth = 1.0)\n",
        "y_0 = [pure(i, m = 4) for i in x]\n",
        "stat, p_value = chisquare(y, y_0)  \n",
        "print('For q = 0,', stat, p_value)\n",
        "\n",
        "# q= 0.5\n",
        "degree_sequence_05 = degree(walk_mix)\n",
        "x, y = logbin(degree_sequence_05, scale = 1.2)     # log-binned\n",
        "(A, B), cov = curve_fit(power_law, x[16:], y[16:])\n",
        "print(A, B)\n",
        "error = np.sqrt(np.diag(cov))\n",
        "print(error)\n",
        "plt.loglog(x, y, '.', color = 'g', label = \"q = 0.5\")\n",
        "plt.loglog(x[12:], power_law(x[12:], A, -5),'--', color = 'g', linewidth = 1.0)\n",
        "    \n",
        "# q = 0.9\n",
        "degree_sequence_09 = degree(walk_prf)\n",
        "x, y = logbin(degree_sequence_09, scale = 1.2)     # log-binned\n",
        "(A, B), cov = curve_fit(power_law, x[16:], y[16:])\n",
        "print(A, B)\n",
        "error = np.sqrt(np.diag(cov))\n",
        "print(error)\n",
        "plt.loglog(x, y, '.', color = 'm', label = \"q = 0.9\")\n",
        "plt.loglog(x, p_inf(x, m=4),'--', color = 'm', linewidth = 1.0)\n",
        "y_1 = [p_inf(i, m = 4) for i in x]\n",
        "stat, p_value = chisquare(y, y_1)  \n",
        "print('For q = 1,', stat, p_value)\n",
        "\n",
        "#plt.title(\"Random Walk\")\n",
        "plt.ylabel(\"$p(k)$\")\n",
        "plt.xlabel(\"$k$\")\n",
        "plt.legend()\n",
        "plt.show()     \n",
        "\n",
        "rnd.savefig('random.pdf')\n",
        "files.download('random.pdf') "
      ],
      "execution_count": 0,
      "outputs": [
        {
          "output_type": "stream",
          "text": [
            "For q = 0, 2.039357718640453e-05 1.0\n",
            "79613.52068336075 -5.064300433048223\n",
            "[6.77723049e+04 1.89557304e-01]\n",
            "46.20841895890523 -3.0716044303067442\n",
            "[5.56492609 0.02648682]\n",
            "For q = 1, 0.0017528385101613195 1.0\n"
          ],
          "name": "stdout"
        },
        {
          "output_type": "display_data",
          "data": {
            "image/png": "[encoded data removed]",
            "text/plain": [
              "<Figure size 432x288 with 1 Axes>"
            ]
          },
          "metadata": {
            "tags": []
          }
        }
      ]
    },
    {
      "cell_type": "code",
      "metadata": {
        "id": "iudnAl-k4rIB",
        "colab_type": "code",
        "colab": {}
      },
      "source": [
        ""
      ],
      "execution_count": 0,
      "outputs": []
    }
  ]
}
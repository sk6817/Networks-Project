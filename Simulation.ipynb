{
  "nbformat": 4,
  "nbformat_minor": 0,
  "metadata": {
    "colab": {
      "name": "Simulation",
      "provenance": [],
      "collapsed_sections": [],
      "machine_shape": "hm"
    },
    "kernelspec": {
      "name": "python3",
      "display_name": "Python 3"
    },
    "accelerator": "GPU"
  },
  "cells": [
    {
      "cell_type": "code",
      "metadata": {
        "id": "Nzh4DwdwRErv",
        "colab_type": "code",
        "colab": {}
      },
      "source": [
        "\"\"\"\n",
        "Functions to be used \n",
        "\"\"\"\n",
        "import pickle\n",
        "import numpy as np\n",
        "import matplotlib.pyplot as plt\n",
        "from scipy.optimize import curve_fit\n",
        "from scipy.stats import chisquare\n",
        "\n",
        "def power_law(x,A, D):\n",
        "    '''\n",
        "    Power law function needed for fitting\n",
        "    '''\n",
        "    return A*x**D\n",
        "\n",
        "def linear(x, m, c):\n",
        "    '''\n",
        "    Linear function needed for fitting\n",
        "    '''\n",
        "    return m*x + c\n",
        "\n",
        "def p_inf(k,m):\n",
        "    '''\n",
        "    p_inf for preferential attachment\n",
        "    '''\n",
        "    return (2*m*(m+1))/(k*(k+1)*(k+2))\n",
        "\n",
        "def exp_k(x, A, B, E):\n",
        "    return A*B**(E*x)\n",
        "\n",
        "def k1_prf(N, m):\n",
        "    '''\n",
        "    k1 in preferential attachment\n",
        "    '''\n",
        "    num = -1 + np.sqrt(1+4*m*N*(m+1))\n",
        "    return num / 2\n",
        "\n",
        "def pure(k, m):\n",
        "    '''\n",
        "    p_inf pure random attachment\n",
        "    '''\n",
        "    return m**(k-m)/((1+m)**(k-m+1))\n",
        "\n",
        "def k1_rnd(N, m):\n",
        "    '''\n",
        "    k1 in random attachment\n",
        "    '''\n",
        "    return m - (np.log(N) / (np.log(m) - np.log(m+1)))\n",
        "\n",
        "def report(A):\n",
        "        '''\n",
        "        The number of edges and vertices in adjacency list\n",
        "        '''\n",
        "        s = 0\n",
        "        for i in range(len(A)): \n",
        "             s += len(A[i])  \n",
        "        edges_num = s // 2\n",
        "        vertex_num = len(A)\n",
        "        print('The number of edges is', edges_num)\n",
        "        print('The number of vertices is', vertex_num)\n",
        "        return edges_num, vertex_num\n",
        "# logbin code given\n",
        "\n",
        "def logbin(data, scale = 1., zeros = False):\n",
        "    \"\"\"\n",
        "    \n",
        "    logbin(data, scale = 1., zeros = False)\n",
        "\n",
        "    Log-bin frequency of unique integer values in data. Returns probabilities\n",
        "    for each bin.\n",
        "\n",
        "    Array, data, is a 1-d array containing full set of event sizes for a\n",
        "    given process in no particular order. For instance, in the Oslo Model\n",
        "    the array may contain the avalanche size recorded at each time step. For\n",
        "    a complex network, the array may contain the degree of each node in the\n",
        "    network. The logbin function finds the frequency of each unique value in\n",
        "    the data array. The function then bins these frequencies in logarithmically\n",
        "    increasing bin sizes controlled by the scale parameter.\n",
        "\n",
        "    Minimum binsize is always 1. Bin edges are lowered to nearest integer. Bins\n",
        "    are always unique, i.e. two different float bin edges corresponding to the\n",
        "    same integer interval will not be included twice. Note, rounding to integer\n",
        "    values results in noise at small event sizes.\n",
        "\n",
        "    Parameters\n",
        "    ----------\n",
        "\n",
        "    data: array_like, 1 dimensional, non-negative integers\n",
        "          Input array. (e.g. Raw avalanche size data in Oslo model.)\n",
        "\n",
        "    scale: float, greater or equal to 1.\n",
        "          Scale parameter controlling the growth of bin sizes.\n",
        "          If scale = 1., function will return frequency of each unique integer\n",
        "          value in data with no binning.\n",
        "\n",
        "    zeros: boolean\n",
        "          Set zeros = True if you want binning function to consider events of\n",
        "          size 0.\n",
        "          Note that output cannot be plotted on log-log scale if data contains\n",
        "          zeros. If zeros = False, events of size 0 will be removed from data.\n",
        "\n",
        "    Returns\n",
        "    -------\n",
        "\n",
        "    x: array_like, 1 dimensional\n",
        "          Array of coordinates for bin centres calculated using geometric mean\n",
        "          of bin edges. Bins with a count of 0 will not be returned.\n",
        "    y: array_like, 1 dimensional\n",
        "          Array of normalised frequency counts within each bin. Bins with a\n",
        "          count of 0 will not be returned.\n",
        "    \"\"\"\n",
        "    import numpy as np\n",
        "    if scale < 1:\n",
        "        raise ValueError('Function requires scale >= 1.')\n",
        "    count = np.bincount(data)\n",
        "    tot = np.sum(count)\n",
        "    smax = np.max(data)\n",
        "    if scale > 1:\n",
        "        jmax = np.ceil(np.log(smax)/np.log(scale))\n",
        "        if zeros:\n",
        "            binedges = scale ** np.arange(jmax + 1)\n",
        "            binedges[0] = 0\n",
        "        else:\n",
        "            binedges = scale ** np.arange(1,jmax + 1)\n",
        "            # count = count[1:]\n",
        "        binedges = np.unique(binedges.astype('uint64'))\n",
        "        x = (binedges[:-1] * (binedges[1:]-1)) ** 0.5\n",
        "        y = np.zeros_like(x)\n",
        "        count = count.astype('float')\n",
        "        for i in range(len(y)):\n",
        "            y[i] = np.sum(count[binedges[i]:binedges[i+1]]/(binedges[i+1] - binedges[i]))\n",
        "            # print(binedges[i],binedges[i+1])\n",
        "        # print(smax,jmax,binedges,x)\n",
        "        # print(x,y)\n",
        "    else:\n",
        "        x = np.nonzero(count)[0]\n",
        "        y = count[count != 0].astype('float')\n",
        "        if zeros != True and x[0] == 0:\n",
        "            x = x[1:]\n",
        "            y = y[1:]\n",
        "    y /= tot\n",
        "    x = x[y!=0]\n",
        "    y = y[y!=0]\n",
        "    return x,y\n",
        "\n",
        "def degree(A):\n",
        "  '''\n",
        "  Returns the degree sequence for a given adjacency list, A. \n",
        "  '''\n",
        "  return [len(i) for i in A]\n"
      ],
      "execution_count": 0,
      "outputs": []
    },
    {
      "cell_type": "code",
      "metadata": {
        "id": "qXvuIssEob-e",
        "colab_type": "code",
        "colab": {}
      },
      "source": [
        "import numpy as np\n",
        "import matplotlib.pyplot as plt\n",
        "from scipy.optimize import curve_fit\n",
        "import random\n",
        "\n",
        "def ba(N,m, seed = 1):\n",
        "  '''\n",
        "    Creates a network of N vertices and m edges for each new node added.    \n",
        "    Seed to initialise different realisations.\n",
        "  '''\n",
        "  random.seed(seed)\n",
        "  adj_list = []\n",
        "  for i in range(m+1):        # initial network\n",
        "    ori = list(range(m+1))\n",
        "    ori.remove(i)\n",
        "    adj_list.append(ori)  \n",
        "  #print(adj_list)            # print initial network\n",
        "  a = [ int(x) for x in np.concatenate(adj_list)]        # initial attachment list - integers\n",
        "  for k in range(int(N) - len(adj_list)):\n",
        "    adj_list.append([])                        # add new vertex\n",
        "    node_list = random.sample(a,m) \n",
        "    while len(node_list) != len(set(node_list)):\n",
        "      node_list = random.sample(a,m)\n",
        "    for i in node_list:\n",
        "      w = len(adj_list) - 1\n",
        "      adj_list[i].append(w)     # create edge\n",
        "      adj_list[-1].append(i)    # create edge\n",
        "      a.extend([w, i])          # updating the attachment list\n",
        "  return adj_list"
      ],
      "execution_count": 0,
      "outputs": []
    },
    {
      "cell_type": "code",
      "metadata": {
        "id": "4ItNlkJglHvD",
        "colab_type": "code",
        "outputId": "1465d248-5291-4da9-df78-b5be7db49228",
        "colab": {
          "base_uri": "https://localhost:8080/",
          "height": 319
        }
      },
      "source": [
        "import networkx as nx\n",
        "\n",
        "# initial network\n",
        "G=nx.complete_graph(6)\n",
        "nx.draw(G)"
      ],
      "execution_count": 0,
      "outputs": [
        {
          "output_type": "display_data",
          "data": {
            "image/png": "[encoded data removed]",
            "text/plain": [
              "<Figure size 432x288 with 1 Axes>"
            ]
          },
          "metadata": {
            "tags": []
          }
        }
      ]
    },
    {
      "cell_type": "code",
      "metadata": {
        "id": "kokbgoxloZQx",
        "colab_type": "code",
        "outputId": "7abb0868-79a8-48e5-ba8c-a54663d9e3f2",
        "colab": {
          "base_uri": "https://localhost:8080/",
          "height": 319
        }
      },
      "source": [
        "# example final graph\n",
        "\n",
        "test_graph = ba(10, 1)\n",
        "def edge_list(adj):\n",
        "  edges = []\n",
        "  for i in range(len(adj)):\n",
        "    for j in adj[i]:\n",
        "      tup = (i, j)\n",
        "      edges.append(tup)\n",
        "  return edges\n",
        "\n",
        "edges = edge_list(test_graph)\n",
        "G1 = nx.Graph()\n",
        "G1.add_edges_from(edges)\n",
        "nx.draw(G1)\n"
      ],
      "execution_count": 0,
      "outputs": [
        {
          "output_type": "display_data",
          "data": {
            "image/png": "[encoded data removed]",
            "text/plain": [
              "<Figure size 432x288 with 1 Axes>"
            ]
          },
          "metadata": {
            "tags": []
          }
        }
      ]
    },
    {
      "cell_type": "code",
      "metadata": {
        "id": "2cUetVD0t961",
        "colab_type": "code",
        "outputId": "06ccc8b4-ffdc-4771-a1b9-33de9a5c8895",
        "colab": {
          "base_uri": "https://localhost:8080/",
          "height": 35
        }
      },
      "source": [
        "# check for self loop\n",
        "\n",
        "test_2 = ba(1000, 2)\n",
        "loop = []\n",
        "for i in range(len(test_2)):\n",
        "  if i in test_2[i]:\n",
        "    loop.append(1)\n",
        "\n",
        "len(loop)"
      ],
      "execution_count": 0,
      "outputs": [
        {
          "output_type": "execute_result",
          "data": {
            "text/plain": [
              "0"
            ]
          },
          "metadata": {
            "tags": []
          },
          "execution_count": 6
        }
      ]
    },
    {
      "cell_type": "code",
      "metadata": {
        "id": "qNcTRu58P4EV",
        "colab_type": "code",
        "outputId": "6ccdc016-5489-4c39-e4b3-b57ea4d9bc94",
        "colab": {
          "base_uri": "https://localhost:8080/",
          "height": 285
        }
      },
      "source": [
        "x = ba(10000, m = 3)\n",
        "from google.colab import files\n",
        "degree_seq_m = degree(x)\n",
        "x0, y0 = logbin(degree_seq_m, scale = 1)\n",
        "x, y = logbin(degree_seq_m, scale = 1.2)\n",
        "(A, B), cov = curve_fit(power_law, x[:-5], y[:-5])\n",
        "log = plt.figure()\n",
        "plt.loglog(x0, y0, 'x', label = 'unbinned', c = 'black', ms = 6)\n",
        "plt.loglog(x, y, '.', label = 'log-binned', c = 'r')\n",
        "#plt.loglog(x, power_law(x, A, -3), '--r', label = 'power law', linewidth = 1.0)    \n",
        "plt.legend(fontsize = 'small')\n",
        "plt.ylabel(\"$p(k)$\")\n",
        "plt.xlabel(\"$k$\")\n",
        "plt.show()  \n",
        "\n",
        "log.savefig('log.pdf')\n",
        "files.download('log.pdf') "
      ],
      "execution_count": 0,
      "outputs": [
        {
          "output_type": "display_data",
          "data": {
            "image/png": "[encoded data removed]",
            "text/plain": [
              "<Figure size 432x288 with 1 Axes>"
            ]
          },
          "metadata": {
            "tags": []
          }
        }
      ]
    },
    {
      "cell_type": "code",
      "metadata": {
        "id": "BhuShUi8ojBs",
        "colab_type": "code",
        "colab": {}
      },
      "source": [
        "# simulating with large points\n",
        "\n",
        "m = [1, 5, 10, 20]\n",
        "N = [100, 1000, 10000, 100000, 1000000]\n",
        "runs = [10000, 1000, 100, 100, 10]\n",
        "\n",
        "m_list = []\n",
        "N_list_seed = []\n",
        "\n",
        "for k in m:\n",
        "    adj_list_m = ba(100000, k, seed = 1)\n",
        "    m_list.append(adj_list_m)\n",
        "\n",
        "for j in range(len(N)):\n",
        "    list_N = []\n",
        "    run_N = runs[j]\n",
        "    seed = np.random.randint(1, int(1e6), size = run_N)\n",
        "    for i in seed:\n",
        "        adj_list_N = ba(N[j], m = 3, seed = i)\n",
        "        list_N.append(adj_list_N)\n",
        "    N_list_seed.append(list_N)\n",
        "  \n",
        "import pickle\n",
        "\n",
        "data = [m_list, N_list_seed]\n",
        "with open('/content/drive/My Drive/Year 3/networks_data.pkl', 'wb') as f:\n",
        "        pickle.dump(data, f) "
      ],
      "execution_count": 0,
      "outputs": []
    },
    {
      "cell_type": "code",
      "metadata": {
        "id": "rxqVQqKppFBa",
        "colab_type": "code",
        "colab": {}
      },
      "source": [
        "'''\n",
        "Analysis for Networks: Pure Random Attachment\n",
        "'''\n",
        "import numpy as np\n",
        "import matplotlib.pyplot as plt\n",
        "from scipy.optimize import curve_fit\n",
        "import random\n",
        "\n",
        "def rnd(N,m, seed = 1):\n",
        "  '''\n",
        "    Creates a network of N vertices and m edges for each new node added with pure random attachment.    \n",
        "    Seed to initialise different realisations.\n",
        "  '''\n",
        "  random.seed(seed)\n",
        "  adj_list = []\n",
        "  for i in range(m+1):        # initial network with m+1 vertices\n",
        "    ori = list(range(m+1))   \n",
        "    ori.remove(i)\n",
        "    adj_list.append(ori)  \n",
        "  #print(adj_list)            # print initial network\n",
        "  for k in range(int(N) - len(adj_list)):\n",
        "    adj_list.append([])                        # add new vertex\n",
        "    w = len(adj_list)\n",
        "    node_list = random.sample(range(0,w), m)\n",
        "    for i in node_list:\n",
        "      adj_list[i].append(w-1)     # create edge\n",
        "      adj_list[-1].append(i)    # create edge\n",
        "  return adj_list\n"
      ],
      "execution_count": 0,
      "outputs": []
    },
    {
      "cell_type": "code",
      "metadata": {
        "id": "KwSRnYuh75Q_",
        "colab_type": "code",
        "colab": {}
      },
      "source": [
        "# simulating with large points\n",
        "\n",
        "m = [1, 5, 10, 20]\n",
        "N = [100, 1000, 10000, 100000, 1000000]\n",
        "runs = [10000, 1000, 100, 100, 10]\n",
        "\n",
        "m_list_2 = []\n",
        "N_list_seed_2 = []\n",
        "\n",
        "for k in m:\n",
        "    adj_list_m_rnd = rnd(100000, k, seed = 1)\n",
        "    m_list_2.append(adj_list_m_rnd)\n",
        "\n",
        "for j in range(len(N)):\n",
        "    list_N = []\n",
        "    run_N = runs[j]\n",
        "    seed = np.random.randint(1, int(1e6), size = run_N)\n",
        "    for i in seed:\n",
        "        adj_list_N = rnd(N[j], m = 3, seed = i)\n",
        "        list_N.append(adj_list_N)\n",
        "    N_list_seed_2.append(list_N)\n",
        "  \n",
        "import pickle\n",
        "\n",
        "data = [m_list_2, N_list_seed_2]\n",
        "with open('/content/drive/My Drive/Year 3/networks_data_rnd.pkl', 'wb') as f:\n",
        "        pickle.dump(data, f) "
      ],
      "execution_count": 0,
      "outputs": []
    },
    {
      "cell_type": "code",
      "metadata": {
        "id": "bXEBS3Ij75NT",
        "colab_type": "code",
        "colab": {}
      },
      "source": [
        ""
      ],
      "execution_count": 0,
      "outputs": []
    }
  ]
}